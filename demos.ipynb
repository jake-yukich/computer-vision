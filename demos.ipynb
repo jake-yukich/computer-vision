{
 "cells": [
  {
   "cell_type": "code",
   "execution_count": 1,
   "metadata": {},
   "outputs": [],
   "source": [
    "import torch\n",
    "device = torch.device('mps')"
   ]
  },
  {
   "cell_type": "code",
   "execution_count": null,
   "metadata": {},
   "outputs": [],
   "source": [
    "from torchvision import datasets, transforms\n",
    "from torch.utils.data import DataLoader\n",
    "\n",
    "transform = transforms.Compose([\n",
    "    transforms.ToTensor(),\n",
    "    transforms.Normalize((0.5, 0.5, 0.5), (0.5, 0.5, 0.5))\n",
    "])\n",
    "\n",
    "train_dataset = datasets.CIFAR10(root='./data', train=True, download=True, transform=transform)\n",
    "train_loader = DataLoader(train_dataset, batch_size=64, shuffle=True)\n",
    "\n",
    "test_dataset = datasets.CIFAR10(root='./data', train=False, download=True, transform=transform)\n",
    "test_loader = DataLoader(test_dataset, batch_size=64, shuffle=False)"
   ]
  },
  {
   "cell_type": "code",
   "execution_count": null,
   "metadata": {},
   "outputs": [],
   "source": [
    "from denoising_autoencoder import DenoisingAutoencoder, train\n",
    "\n",
    "model = DenoisingAutoencoder()\n",
    "train(model, train_loader, epochs=10, learning_rate=0.01, device=device)"
   ]
  },
  {
   "cell_type": "code",
   "execution_count": null,
   "metadata": {},
   "outputs": [],
   "source": [
    "import torch\n",
    "import numpy as np\n",
    "import matplotlib.pyplot as plt\n",
    "\n",
    "dataiter = iter(test_loader)\n",
    "images, _ = next(dataiter)\n",
    "\n",
    "n = 5\n",
    "images = images[:n]\n",
    "images = images.to(device)\n",
    "\n",
    "def denormalize(images):\n",
    "    return images * 0.5 + 0.5\n",
    "\n",
    "noisy_images = model.add_noise(images)\n",
    "model.eval()\n",
    "with torch.no_grad():\n",
    "    denoised_images = model(noisy_images)\n",
    "\n",
    "images = denormalize(images).cpu().numpy()\n",
    "noisy_images = denormalize(noisy_images).cpu().numpy()\n",
    "denoised_images = denormalize(denoised_images).cpu().numpy()\n",
    "\n",
    "# Transpose images from (N, C, H, W) to (N, H, W, C) for plotting\n",
    "images = np.transpose(images, (0, 2, 3, 1))\n",
    "noisy_images = np.transpose(noisy_images, (0, 2, 3, 1))\n",
    "denoised_images = np.transpose(denoised_images, (0, 2, 3, 1))\n",
    "\n",
    "plt.figure(figsize=(12, 4*n))\n",
    "for index in range(n):\n",
    "    # Original\n",
    "    plt.subplot(n, 3, index * 3 + 1)\n",
    "    plt.imshow(np.clip(images[index], 0., 1.))\n",
    "    plt.axis('off')\n",
    "    if index == 0:\n",
    "        plt.title(\"Original\")\n",
    "    \n",
    "    # Noisy\n",
    "    plt.subplot(n, 3, index * 3 + 2)\n",
    "    plt.imshow(np.clip(noisy_images[index], 0., 1.))\n",
    "    plt.axis('off')\n",
    "    if index == 0:\n",
    "        plt.title(\"Noisy\")\n",
    "    \n",
    "    # Denoised\n",
    "    plt.subplot(n, 3, index * 3 + 3)\n",
    "    plt.imshow(np.clip(denoised_images[index], 0., 1.))\n",
    "    plt.axis('off')\n",
    "    if index == 0:\n",
    "        plt.title(\"Denoised\")\n",
    "\n",
    "plt.tight_layout()\n",
    "plt.show()"
   ]
  },
  {
   "cell_type": "code",
   "execution_count": null,
   "metadata": {},
   "outputs": [],
   "source": []
  }
 ],
 "metadata": {
  "kernelspec": {
   "display_name": ".venv",
   "language": "python",
   "name": "python3"
  },
  "language_info": {
   "codemirror_mode": {
    "name": "ipython",
    "version": 3
   },
   "file_extension": ".py",
   "mimetype": "text/x-python",
   "name": "python",
   "nbconvert_exporter": "python",
   "pygments_lexer": "ipython3",
   "version": "3.9.6"
  }
 },
 "nbformat": 4,
 "nbformat_minor": 2
}
